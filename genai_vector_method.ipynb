{
 "cells": [
  {
   "cell_type": "markdown",
   "id": "ee98530e",
   "metadata": {},
   "source": [
    "# Importing all necessary libraries"
   ]
  },
  {
   "cell_type": "code",
   "execution_count": 1,
   "id": "1da5e60e",
   "metadata": {},
   "outputs": [
    {
     "name": "stderr",
     "output_type": "stream",
     "text": [
      "c:\\Users\\Abdul\\AppData\\Local\\Programs\\Python\\Python312\\Lib\\site-packages\\tqdm\\auto.py:21: TqdmWarning: IProgress not found. Please update jupyter and ipywidgets. See https://ipywidgets.readthedocs.io/en/stable/user_install.html\n",
      "  from .autonotebook import tqdm as notebook_tqdm\n"
     ]
    }
   ],
   "source": [
    "import pandas as pd\n",
    "from pymongo import MongoClient\n",
    "from sentence_transformers import SentenceTransformer\n",
    "from langchain_community.vectorstores import MongoDBAtlasVectorSearch\n",
    "from langchain_community.embeddings import HuggingFaceEmbeddings\n",
    "from langchain_community.llms import Ollama\n",
    "from langchain.prompts import PromptTemplate\n",
    "from langchain.chains import LLMChain\n",
    "from langchain.chains import RetrievalQA"
   ]
  },
  {
   "cell_type": "markdown",
   "id": "b7d34e19",
   "metadata": {},
   "source": [
    "# Connect to MongoDB and Insert data"
   ]
  },
  {
   "cell_type": "code",
   "execution_count": null,
   "id": "ee6a34cf",
   "metadata": {},
   "outputs": [
    {
     "name": "stdout",
     "output_type": "stream",
     "text": [
      "Documents inserted: 10\n"
     ]
    }
   ],
   "source": [
    "# Step 1: Load csv file\n",
    "df = pd.read_csv(r\"C:\\Users\\Abdul\\Downloads\\sample_data.csv\")\n",
    "\n",
    "# Convert LaunchDate to datetime\n",
    "df[\"LaunchDate\"] = pd.to_datetime(df[\"LaunchDate\"], format=\"%d-%m-%Y\")\n",
    "\n",
    "# Convert Discount from \"10%\" string → number\n",
    "df[\"Discount\"] = df[\"Discount\"].str.replace(\"%\", \"\").astype(float)\n",
    "\n",
    "# Step 2: Connect to MongoDB\n",
    "\n",
    "load_dotenv()\n",
    "mongo_uri = os.getenv(\"MONGO_URI\")\n",
    "\n",
    "# **Note**: Create a `.env` file in the root directory of this project with the following content: \n",
    "# MONGO_URI=\"your_mongodb_connection_string\"\n",
    "# Replace the placeholder with your actual MongoDB URI. \"\"\"\n",
    "\n",
    "client = MongoClient(mongo_uri)\n",
    "db = client[\"product_db\"]\n",
    "collection = db[\"products\"]\n",
    "\n",
    "collection.drop()\n",
    "\n",
    "# Step 3: Insert\n",
    "data_dict = df.to_dict(\"records\")\n",
    "collection.insert_many(data_dict)\n",
    "\n",
    "# Step 4: Check\n",
    "print(\"Documents inserted:\", collection.count_documents({}))\n"
   ]
  },
  {
   "cell_type": "markdown",
   "id": "160f7af1",
   "metadata": {},
   "source": [
    "# Creating embeddings for the data in the fields"
   ]
  },
  {
   "cell_type": "code",
   "execution_count": 4,
   "id": "eec25906",
   "metadata": {},
   "outputs": [
    {
     "name": "stderr",
     "output_type": "stream",
     "text": [
      "c:\\Users\\Abdul\\AppData\\Local\\Programs\\Python\\Python312\\Lib\\site-packages\\transformers\\models\\bert\\modeling_bert.py:407: UserWarning: 1Torch was not compiled with flash attention. (Triggered internally at C:\\actions-runner\\_work\\pytorch\\pytorch\\builder\\windows\\pytorch\\aten\\src\\ATen\\native\\transformers\\cuda\\sdp_utils.cpp:555.)\n",
      "  attn_output = torch.nn.functional.scaled_dot_product_attention(\n"
     ]
    }
   ],
   "source": [
    "#  Create embeddings for the combined_text\n",
    "\n",
    "model = SentenceTransformer('all-MiniLM-L6-v2')\n",
    "\n",
    "\n",
    "for doc in collection.find():\n",
    "    combined_text = f\"\"\"\n",
    "                    Product: {doc.get('ProductName', '')}\n",
    "                    Category: {doc.get('Category', '')}\n",
    "                    Brand: {doc.get('Brand', '')}\n",
    "                    Launch Date: {doc.get('LaunchDate', '')}\n",
    "                    Discount: {doc.get('Discount', '')}\n",
    "                    Price: {doc.get('Price', '')}\n",
    "                    Rating: {doc.get('Rating', '')}\n",
    "                    Reviews: {doc.get('ReviewCount', '')}\n",
    "                    Stock: {doc.get('Stock', '')}\n",
    "                    \"\"\"\n",
    "\n",
    "    embedding = model.encode(combined_text)\n",
    "\n",
    "    collection.update_one(\n",
    "        {\"_id\": doc[\"_id\"]},\n",
    "        {\"$set\": \n",
    "                {\n",
    "                    \"description\" : combined_text,\n",
    "                    \"full_embedding\": embedding.tolist()}}\n",
    "    )\n"
   ]
  },
  {
   "cell_type": "markdown",
   "id": "de0a99ce",
   "metadata": {},
   "source": [
    "# Vector search using MongoDBAtlasVectorsearch"
   ]
  },
  {
   "cell_type": "code",
   "execution_count": null,
   "id": "cadb92cc",
   "metadata": {},
   "outputs": [
    {
     "name": "stderr",
     "output_type": "stream",
     "text": [
      "C:\\Users\\Abdul\\AppData\\Local\\Temp\\ipykernel_32704\\534685867.py:1: LangChainDeprecationWarning: The class `HuggingFaceEmbeddings` was deprecated in LangChain 0.2.2 and will be removed in 1.0. An updated version of the class exists in the :class:`~langchain-huggingface package and should be used instead. To use it run `pip install -U :class:`~langchain-huggingface` and import as `from :class:`~langchain_huggingface import HuggingFaceEmbeddings``.\n",
      "  embedding_model = HuggingFaceEmbeddings(model_name='all-MiniLM-L6-v2')\n",
      "C:\\Users\\Abdul\\AppData\\Local\\Temp\\ipykernel_32704\\534685867.py:3: LangChainDeprecationWarning: The class `MongoDBAtlasVectorSearch` was deprecated in LangChain 0.0.25 and will be removed in 1.0. An updated version of the class exists in the :class:`~langchain-mongodb package and should be used instead. To use it run `pip install -U :class:`~langchain-mongodb` and import as `from :class:`~langchain_mongodb import MongoDBAtlasVectorSearch``.\n",
      "  vector_search = MongoDBAtlasVectorSearch(\n"
     ]
    }
   ],
   "source": [
    "embedding_model = HuggingFaceEmbeddings(model_name='all-MiniLM-L6-v2')\n",
    "\n",
    "vector_search = MongoDBAtlasVectorSearch(\n",
    "    collection=collection,\n",
    "    embedding=embedding_model,\n",
    "    index_name=\"products_vector_index\", \n",
    "    text_key=\"description\",\n",
    "    embedding_key=\"full_embedding\" )"
   ]
  },
  {
   "cell_type": "code",
   "execution_count": 6,
   "id": "ef4c90df",
   "metadata": {},
   "outputs": [],
   "source": [
    "#  Setup Retriever\n",
    "retriever = vector_search.as_retriever()"
   ]
  },
  {
   "cell_type": "markdown",
   "id": "8477e1d8",
   "metadata": {},
   "source": [
    "# Load the llm model"
   ]
  },
  {
   "cell_type": "code",
   "execution_count": null,
   "id": "f37fbd10",
   "metadata": {},
   "outputs": [
    {
     "name": "stderr",
     "output_type": "stream",
     "text": [
      "C:\\Users\\Abdul\\AppData\\Local\\Temp\\ipykernel_32704\\4202485957.py:1: LangChainDeprecationWarning: The class `Ollama` was deprecated in LangChain 0.3.1 and will be removed in 1.0.0. An updated version of the class exists in the :class:`~langchain-ollama package and should be used instead. To use it run `pip install -U :class:`~langchain-ollama` and import as `from :class:`~langchain_ollama import OllamaLLM``.\n",
      "  llm = Ollama(model=\"deepseek-coder:6.7b\")\n"
     ]
    }
   ],
   "source": [
    "llm = Ollama(model=\"deepseek-coder:6.7b\")"
   ]
  },
  {
   "cell_type": "markdown",
   "id": "fe6c714e",
   "metadata": {},
   "source": [
    "# Set the prompt template"
   ]
  },
  {
   "cell_type": "code",
   "execution_count": 8,
   "id": "d0d07774",
   "metadata": {},
   "outputs": [],
   "source": [
    "prompt_template = \"\"\"You are an expert MongoDB query generator.\n",
    "\n",
    "The collection is called products.\n",
    "\n",
    "It has these fields:\n",
    "\n",
    "- ProductID (number)\n",
    "- ProductName (string)\n",
    "- Category (string)\n",
    "- Price (number)\n",
    "- Rating (number)\n",
    "- ReviewCount (number)\n",
    "- Stock (number)\n",
    "- Discount (string, e.g., \"10%\")\n",
    "- Brand (string)\n",
    "- LaunchDate (ISO date string, format \"YYYY-MM-DD\")\n",
    "\n",
    "When the user asks a question:\n",
    "\n",
    "Generate a MongoDB query in JSON format.\n",
    "\n",
    "Choose the correct type:\n",
    "\n",
    "- If a normal search → generate a `.find()` style query:\n",
    "  {{\n",
    "    \"filter\": {{ ... }},\n",
    "    \"projection\": {{ ... }},\n",
    "    \"sort\": {{ ... }}  (only if sorting is asked)\n",
    "  }}\n",
    "\n",
    "- If the user question REQUIRES aggregation (average, count, sum, min, max, totals):\n",
    "  Output an aggregation pipeline (array of stages):\n",
    "\n",
    "  [\n",
    "    {{ \"$match\": {{ ... }} }},\n",
    "    {{ \"$group\": {{ ... }} }},\n",
    "    {{ \"$sort\": {{ ... }} }}  (only if sorting is asked)\n",
    "  ]\n",
    "\n",
    "**Do NOT output both at the same time — choose ONE format depending on the question.**\n",
    "\n",
    "All field names must exactly match — do not invent new fields.\n",
    "\n",
    "Use correct operators:\n",
    "\n",
    "- For text match → `$regex` + `$options: \"i\"`\n",
    "- For number or date → `$gt`, `$lt`, `$gte`, `$lte`\n",
    "- For \"in stock\" → {{ \"Stock\": {{ \"$gt\": 0 }} }}\n",
    "- For dates → use `$gt`, `$lt`, `$gte`, `$lte` depending on user question (\"after\", \"before\", \"from\", \"until\")\n",
    "\n",
    "For date fields — **always as string \"YYYY-MM-DD\"** — no ISODate() or Date().\n",
    "\n",
    "No Python code, no ObjectId() — only JSON.\n",
    "\n",
    "Projection rules:\n",
    "\n",
    "- Always include fields used in filter.\n",
    "- Include fields asked by the user.\n",
    "- If user does not ask — include all fields.\n",
    "\n",
    "Sorting:\n",
    "\n",
    "- If user says \"highest\", \"lowest\", \"ascending\", \"descending\" → use correct \"sort\".\n",
    "\n",
    "Example aggregations:\n",
    "\n",
    "- Average rating:\n",
    "\n",
    "  {{ \"$group\": {{ \"_id\": null, \"averageRating\": {{ \"$avg\": \"$Rating\" }} }} }}\n",
    "\n",
    "- Sum of stock:\n",
    "\n",
    "  {{ \"$group\": {{ \"_id\": null, \"totalStock\": {{ \"$sum\": \"$Stock\" }} }} }}\n",
    "\n",
    "- Count products:\n",
    "\n",
    "  {{ \"$group\": {{ \"_id\": null, \"count\": {{ \"$sum\": 1 }} }} }}\n",
    "\n",
    "- Maximum price:\n",
    "\n",
    "  {{ \"$group\": {{ \"_id\": null, \"maxPrice\": {{ \"$max\": \"$Price\" }} }} }}\n",
    "\n",
    "VERY IMPORTANT:\n",
    "\n",
    "- Do NOT output ```json or ``` for aggregation pipeline — return only a pure JSON array of stages.\n",
    "\n",
    "- For aggregation pipeline — the output must look like:\n",
    "\n",
    "[ {{ \"$match\": ... }}, {{ \"$group\": ... }}, {{ \"$sort\": ... }} ]\n",
    "\n",
    "No backticks. No \"```json\". No explanations. Only pure array.\n",
    "\n",
    "If the question asks for listing products (with filters and sorting) — do NOT output aggregation.\n",
    "\n",
    "Use \"filter\", \"projection\", \"sort\".\n",
    "\n",
    "Finally:\n",
    "\n",
    "Return ONLY the JSON — no explanations, no comments, no markdown.\n",
    "\n",
    "Question: {question}\n",
    "\"\"\"\n",
    "\n",
    "prompt = PromptTemplate(\n",
    "    input_variables=[\"context\", \"question\"],\n",
    "    template=prompt_template\n",
    ")"
   ]
  },
  {
   "cell_type": "markdown",
   "id": "0aa9e3ae",
   "metadata": {},
   "source": [
    "# Getting response using LLMChain"
   ]
  },
  {
   "cell_type": "code",
   "execution_count": 9,
   "id": "4838e803",
   "metadata": {},
   "outputs": [
    {
     "name": "stderr",
     "output_type": "stream",
     "text": [
      "C:\\Users\\Abdul\\AppData\\Local\\Temp\\ipykernel_32704\\357841278.py:4: LangChainDeprecationWarning: The method `BaseRetriever.get_relevant_documents` was deprecated in langchain-core 0.1.46 and will be removed in 1.0. Use :meth:`~invoke` instead.\n",
      "  docs = retriever.get_relevant_documents(user_question)\n",
      "C:\\Users\\Abdul\\AppData\\Local\\Temp\\ipykernel_32704\\357841278.py:9: LangChainDeprecationWarning: The class `LLMChain` was deprecated in LangChain 0.1.17 and will be removed in 1.0. Use :meth:`~RunnableSequence, e.g., `prompt | llm`` instead.\n",
      "  llm_chain = LLMChain(llm=llm, prompt=prompt)\n",
      "C:\\Users\\Abdul\\AppData\\Local\\Temp\\ipykernel_32704\\357841278.py:11: LangChainDeprecationWarning: The method `Chain.run` was deprecated in langchain 0.1.0 and will be removed in 1.0. Use :meth:`~invoke` instead.\n",
      "  response = llm_chain.run({\"context\": context_text, \"question\": user_question})\n"
     ]
    },
    {
     "name": "stdout",
     "output_type": "stream",
     "text": [
      "{\n",
      "    \"filter\": {\n",
      "        \"Rating\": {\"$lt\": 4.5},\n",
      "        \"ReviewCount\": {\"$gt\": 200},\n",
      "        \"Brand\": {\"$in\": [\"Nike\", \"Sony\"]}\n",
      "    },\n",
      "    \"projection\": {\n",
      "        \"_id\": 1,\n",
      "        \"ProductID\": 1,\n",
      "        \"ProductName\": 1,\n",
      "        \"Category\": 1,\n",
      "        \"Price\": 1,\n",
      "        \"Rating\": 1,\n",
      "        \"ReviewCount\": 1,\n",
      "        \"Stock\": 1,\n",
      "        \"Discount\": 1,\n",
      "        \"Brand\": 1,\n",
      "        \"LaunchDate\": 1\n",
      "    }\n",
      "}\n",
      "\n"
     ]
    }
   ],
   "source": [
    "user_question = \"Find all products with a rating below 4.5 that have more than 200 reviews and are offered by the brand 'Nike' or 'Sony'.\"\n",
    "\n",
    "# Step A: Vector search\n",
    "docs = retriever.get_relevant_documents(user_question)\n",
    "\n",
    "# Step B: Prepare context\n",
    "context_text = \"\\n\".join([doc.page_content for doc in docs])\n",
    "\n",
    "llm_chain = LLMChain(llm=llm, prompt=prompt)\n",
    "\n",
    "response = llm_chain.run({\"context\": context_text, \"question\": user_question})\n",
    "\n",
    "# Step D: See MongoDB query\n",
    "print(response)"
   ]
  },
  {
   "cell_type": "markdown",
   "id": "987ab7a6",
   "metadata": {},
   "source": [
    "# Clean and Parse the response to get the correct mongodb query format"
   ]
  },
  {
   "cell_type": "code",
   "execution_count": null,
   "id": "2bf3db15",
   "metadata": {},
   "outputs": [],
   "source": [
    "# Step 1: Clean & parse\n",
    "import json\n",
    "import re\n",
    "from datetime import datetime\n",
    "\n",
    "def clean_response(response_text):\n",
    "    # Remove code fences\n",
    "    response_text = re.sub(r\"```json\", \"\", response_text)\n",
    "    response_text = re.sub(r\"```\", \"\", response_text)\n",
    "    response_text = response_text.strip()\n",
    "    return response_text\n",
    "\n",
    "cleaned_text = clean_response(response)\n",
    "\n",
    "try:\n",
    "    parsed_query = json.loads(cleaned_text)\n",
    "except json.JSONDecodeError:\n",
    "    import ast\n",
    "    parsed_query = ast.literal_eval(cleaned_text)\n",
    "\n",
    "if isinstance(parsed_query, dict):\n",
    "    # Example: if LaunchDate is in filter\n",
    "    if \"LaunchDate\" in parsed_query.get(\"filter\", {}):\n",
    "        for op, date_str in parsed_query[\"filter\"][\"LaunchDate\"].items():\n",
    "            parsed_query[\"filter\"][\"LaunchDate\"][op] = datetime.strptime(\n",
    "                date_str, \"%Y-%m-%d\"\n",
    "            )\n",
    "\n",
    "elif isinstance(parsed_query, list):\n",
    "    # Aggregation pipeline\n",
    "    for stage in parsed_query:\n",
    "        if \"$match\" in stage:\n",
    "            match_stage = stage[\"$match\"]\n",
    "\n",
    "            if \"LaunchDate\" in match_stage:\n",
    "                for op, date_str in match_stage[\"LaunchDate\"].items():\n",
    "                    match_stage[\"LaunchDate\"][op] = datetime.strptime(\n",
    "                        date_str, \"%Y-%m-%d\"\n",
    "                    )"
   ]
  },
  {
   "cell_type": "markdown",
   "id": "79ae0f26",
   "metadata": {},
   "source": [
    "# Get the results"
   ]
  },
  {
   "cell_type": "code",
   "execution_count": null,
   "id": "790b77ed",
   "metadata": {},
   "outputs": [
    {
     "name": "stdout",
     "output_type": "stream",
     "text": [
      "Results: [{'ProductID': 108, 'ProductName': 'Yoga Mat', 'Category': 'Sports', 'Price': 29.99, 'Rating': 4.4, 'ReviewCount': 320, 'Stock': 300, 'Discount': 5.0, 'Brand': 'Manduka', 'LaunchDate': datetime.datetime(2022, 1, 5, 0, 0)}, {'ProductID': 101, 'ProductName': 'Wireless Mouse', 'Category': 'Electronics', 'Price': 25.99, 'Rating': 4.5, 'ReviewCount': 200, 'Stock': 150, 'Discount': 10.0, 'Brand': 'Logitech', 'LaunchDate': datetime.datetime(2022, 1, 15, 0, 0)}, {'ProductID': 104, 'ProductName': 'Running Shoes', 'Category': 'Sports', 'Price': 49.99, 'Rating': 4.3, 'ReviewCount': 500, 'Stock': 200, 'Discount': 20.0, 'Brand': 'Nike', 'LaunchDate': datetime.datetime(2022, 2, 10, 0, 0)}, {'ProductID': 105, 'ProductName': 'Smartwatch', 'Category': 'Electronics', 'Price': 159.99, 'Rating': 4.6, 'ReviewCount': 220, 'Stock': 45, 'Discount': 10.0, 'Brand': 'Apple', 'LaunchDate': datetime.datetime(2022, 3, 30, 0, 0)}, {'ProductID': 109, 'ProductName': 'Smart TV', 'Category': 'Electronics', 'Price': 399.99, 'Rating': 4.7, 'ReviewCount': 150, 'Stock': 25, 'Discount': 15.0, 'Brand': 'Samsung', 'LaunchDate': datetime.datetime(2022, 6, 10, 0, 0)}]\n"
     ]
    }
   ],
   "source": [
    "# Step 2: Run query if parsing successful\n",
    "if parsed_query is not None:\n",
    "    if isinstance(parsed_query, dict):\n",
    "        cursor = collection.find(\n",
    "            parsed_query[\"filter\"],\n",
    "            parsed_query[\"projection\"]\n",
    "        )\n",
    "        if \"sort\" in parsed_query and parsed_query[\"sort\"]:\n",
    "            cursor = cursor.sort(list(parsed_query[\"sort\"].items()))\n",
    "        \n",
    "        results = list(cursor)\n",
    "\n",
    "    elif isinstance(parsed_query, list):\n",
    "        # It is aggregation\n",
    "        results = list(collection.aggregate(parsed_query))\n",
    "\n",
    "    else:\n",
    "        print(\"Unknown query format!\")\n",
    "\n",
    "    print(\"Results:\", results)\n"
   ]
  },
  {
   "cell_type": "markdown",
   "id": "a3f283fb",
   "metadata": {},
   "source": [
    "# Output dataframe"
   ]
  },
  {
   "cell_type": "code",
   "execution_count": 19,
   "id": "50ba2909",
   "metadata": {},
   "outputs": [
    {
     "data": {
      "text/html": [
       "<div>\n",
       "<style scoped>\n",
       "    .dataframe tbody tr th:only-of-type {\n",
       "        vertical-align: middle;\n",
       "    }\n",
       "\n",
       "    .dataframe tbody tr th {\n",
       "        vertical-align: top;\n",
       "    }\n",
       "\n",
       "    .dataframe thead th {\n",
       "        text-align: right;\n",
       "    }\n",
       "</style>\n",
       "<table border=\"1\" class=\"dataframe\">\n",
       "  <thead>\n",
       "    <tr style=\"text-align: right;\">\n",
       "      <th></th>\n",
       "      <th>ProductID</th>\n",
       "      <th>ProductName</th>\n",
       "      <th>Category</th>\n",
       "      <th>Price</th>\n",
       "      <th>Rating</th>\n",
       "      <th>ReviewCount</th>\n",
       "      <th>Stock</th>\n",
       "      <th>Discount</th>\n",
       "      <th>Brand</th>\n",
       "      <th>LaunchDate</th>\n",
       "    </tr>\n",
       "  </thead>\n",
       "  <tbody>\n",
       "    <tr>\n",
       "      <th>0</th>\n",
       "      <td>108</td>\n",
       "      <td>Yoga Mat</td>\n",
       "      <td>Sports</td>\n",
       "      <td>29.99</td>\n",
       "      <td>4.4</td>\n",
       "      <td>320</td>\n",
       "      <td>300</td>\n",
       "      <td>5.0</td>\n",
       "      <td>Manduka</td>\n",
       "      <td>2022-01-05</td>\n",
       "    </tr>\n",
       "    <tr>\n",
       "      <th>1</th>\n",
       "      <td>101</td>\n",
       "      <td>Wireless Mouse</td>\n",
       "      <td>Electronics</td>\n",
       "      <td>25.99</td>\n",
       "      <td>4.5</td>\n",
       "      <td>200</td>\n",
       "      <td>150</td>\n",
       "      <td>10.0</td>\n",
       "      <td>Logitech</td>\n",
       "      <td>2022-01-15</td>\n",
       "    </tr>\n",
       "    <tr>\n",
       "      <th>2</th>\n",
       "      <td>104</td>\n",
       "      <td>Running Shoes</td>\n",
       "      <td>Sports</td>\n",
       "      <td>49.99</td>\n",
       "      <td>4.3</td>\n",
       "      <td>500</td>\n",
       "      <td>200</td>\n",
       "      <td>20.0</td>\n",
       "      <td>Nike</td>\n",
       "      <td>2022-02-10</td>\n",
       "    </tr>\n",
       "    <tr>\n",
       "      <th>3</th>\n",
       "      <td>105</td>\n",
       "      <td>Smartwatch</td>\n",
       "      <td>Electronics</td>\n",
       "      <td>159.99</td>\n",
       "      <td>4.6</td>\n",
       "      <td>220</td>\n",
       "      <td>45</td>\n",
       "      <td>10.0</td>\n",
       "      <td>Apple</td>\n",
       "      <td>2022-03-30</td>\n",
       "    </tr>\n",
       "    <tr>\n",
       "      <th>4</th>\n",
       "      <td>109</td>\n",
       "      <td>Smart TV</td>\n",
       "      <td>Electronics</td>\n",
       "      <td>399.99</td>\n",
       "      <td>4.7</td>\n",
       "      <td>150</td>\n",
       "      <td>25</td>\n",
       "      <td>15.0</td>\n",
       "      <td>Samsung</td>\n",
       "      <td>2022-06-10</td>\n",
       "    </tr>\n",
       "  </tbody>\n",
       "</table>\n",
       "</div>"
      ],
      "text/plain": [
       "   ProductID     ProductName     Category   Price  Rating  ReviewCount  Stock  \\\n",
       "0        108        Yoga Mat       Sports   29.99     4.4          320    300   \n",
       "1        101  Wireless Mouse  Electronics   25.99     4.5          200    150   \n",
       "2        104   Running Shoes       Sports   49.99     4.3          500    200   \n",
       "3        105      Smartwatch  Electronics  159.99     4.6          220     45   \n",
       "4        109        Smart TV  Electronics  399.99     4.7          150     25   \n",
       "\n",
       "   Discount     Brand LaunchDate  \n",
       "0       5.0   Manduka 2022-01-05  \n",
       "1      10.0  Logitech 2022-01-15  \n",
       "2      20.0      Nike 2022-02-10  \n",
       "3      10.0     Apple 2022-03-30  \n",
       "4      15.0   Samsung 2022-06-10  "
      ]
     },
     "execution_count": 19,
     "metadata": {},
     "output_type": "execute_result"
    }
   ],
   "source": [
    "df1 = pd.DataFrame(results)\n",
    "df1"
   ]
  },
  {
   "cell_type": "markdown",
   "id": "a6868f9d",
   "metadata": {},
   "source": [
    "# Check for another question"
   ]
  },
  {
   "cell_type": "code",
   "execution_count": 20,
   "id": "88d8cffd",
   "metadata": {},
   "outputs": [
    {
     "name": "stdout",
     "output_type": "stream",
     "text": [
      "[{\"$match\": {\"Category\": \"Electronics\"}},{\"$group\": {\"_id\":\"null\", \"averageRating\": {\"$avg\": \"$Rating\"}}}]\n",
      "\n"
     ]
    }
   ],
   "source": [
    "user_question = \"What is average rating of products in Electronics?\"\n",
    "\n",
    "# Step A: Vector search\n",
    "docs = retriever.get_relevant_documents(user_question)\n",
    "\n",
    "# Step B: Prepare context\n",
    "context_text = \"\\n\".join([doc.page_content for doc in docs])\n",
    "\n",
    "llm_chain = LLMChain(llm=llm, prompt=prompt)\n",
    "\n",
    "response = llm_chain.run({\"context\": context_text, \"question\": user_question})\n",
    "\n",
    "# Step D: See MongoDB query\n",
    "print(response)"
   ]
  },
  {
   "cell_type": "code",
   "execution_count": 21,
   "id": "d1cabf5a",
   "metadata": {},
   "outputs": [
    {
     "name": "stdout",
     "output_type": "stream",
     "text": [
      "Results: [{'_id': 'null', 'averageRating': 4.66}]\n"
     ]
    }
   ],
   "source": [
    "# Step 1: Clean & parse\n",
    "import json\n",
    "import re\n",
    "from datetime import datetime\n",
    "\n",
    "def clean_response(response_text):\n",
    "    # Remove code fences\n",
    "    response_text = re.sub(r\"```json\", \"\", response_text)\n",
    "    response_text = re.sub(r\"```\", \"\", response_text)\n",
    "    response_text = response_text.strip()\n",
    "    return response_text\n",
    "\n",
    "cleaned_text = clean_response(response)\n",
    "\n",
    "try:\n",
    "    parsed_query = json.loads(cleaned_text)\n",
    "except json.JSONDecodeError:\n",
    "    import ast\n",
    "    parsed_query = ast.literal_eval(cleaned_text)\n",
    "\n",
    "if isinstance(parsed_query, dict):\n",
    "    # Example: if LaunchDate is in filter\n",
    "    if \"LaunchDate\" in parsed_query.get(\"filter\", {}):\n",
    "        for op, date_str in parsed_query[\"filter\"][\"LaunchDate\"].items():\n",
    "            parsed_query[\"filter\"][\"LaunchDate\"][op] = datetime.strptime(\n",
    "                date_str, \"%Y-%m-%d\"\n",
    "            )\n",
    "\n",
    "elif isinstance(parsed_query, list):\n",
    "    # Aggregation pipeline\n",
    "    for stage in parsed_query:\n",
    "        if \"$match\" in stage:\n",
    "            match_stage = stage[\"$match\"]\n",
    "\n",
    "            if \"LaunchDate\" in match_stage:\n",
    "                for op, date_str in match_stage[\"LaunchDate\"].items():\n",
    "                    match_stage[\"LaunchDate\"][op] = datetime.strptime(\n",
    "                        date_str, \"%Y-%m-%d\"\n",
    "                    )\n",
    "\n",
    "\n",
    "# Step 2: Run query if parsing successful\n",
    "if parsed_query is not None:\n",
    "    if isinstance(parsed_query, dict):\n",
    "        cursor = collection.find(\n",
    "            parsed_query[\"filter\"],\n",
    "            parsed_query[\"projection\"]\n",
    "        )\n",
    "        if \"sort\" in parsed_query and parsed_query[\"sort\"]:\n",
    "            cursor = cursor.sort(list(parsed_query[\"sort\"].items()))\n",
    "        \n",
    "        results = list(cursor)\n",
    "\n",
    "    elif isinstance(parsed_query, list):\n",
    "        # It is aggregation\n",
    "        results = list(collection.aggregate(parsed_query))\n",
    "\n",
    "    else:\n",
    "        print(\"Unknown query format!\")\n",
    "\n",
    "    print(\"Results:\", results)\n"
   ]
  },
  {
   "cell_type": "code",
   "execution_count": 22,
   "id": "3b425cba",
   "metadata": {},
   "outputs": [
    {
     "data": {
      "text/html": [
       "<div>\n",
       "<style scoped>\n",
       "    .dataframe tbody tr th:only-of-type {\n",
       "        vertical-align: middle;\n",
       "    }\n",
       "\n",
       "    .dataframe tbody tr th {\n",
       "        vertical-align: top;\n",
       "    }\n",
       "\n",
       "    .dataframe thead th {\n",
       "        text-align: right;\n",
       "    }\n",
       "</style>\n",
       "<table border=\"1\" class=\"dataframe\">\n",
       "  <thead>\n",
       "    <tr style=\"text-align: right;\">\n",
       "      <th></th>\n",
       "      <th>_id</th>\n",
       "      <th>averageRating</th>\n",
       "    </tr>\n",
       "  </thead>\n",
       "  <tbody>\n",
       "    <tr>\n",
       "      <th>0</th>\n",
       "      <td>null</td>\n",
       "      <td>4.66</td>\n",
       "    </tr>\n",
       "  </tbody>\n",
       "</table>\n",
       "</div>"
      ],
      "text/plain": [
       "    _id  averageRating\n",
       "0  null           4.66"
      ]
     },
     "execution_count": 22,
     "metadata": {},
     "output_type": "execute_result"
    }
   ],
   "source": [
    "df2 = pd.DataFrame(results)\n",
    "df2"
   ]
  }
 ],
 "metadata": {
  "kernelspec": {
   "display_name": "Python 3",
   "language": "python",
   "name": "python3"
  },
  "language_info": {
   "codemirror_mode": {
    "name": "ipython",
    "version": 3
   },
   "file_extension": ".py",
   "mimetype": "text/x-python",
   "name": "python",
   "nbconvert_exporter": "python",
   "pygments_lexer": "ipython3",
   "version": "3.12.3"
  }
 },
 "nbformat": 4,
 "nbformat_minor": 5
}
